{
 "cells": [
  {
   "cell_type": "code",
   "execution_count": 43,
   "metadata": {},
   "outputs": [
    {
     "name": "stdout",
     "output_type": "stream",
     "text": [
      "torch.Size([1, 24, 160, 128])\n",
      "torch.Size([1, 48, 80, 64])\n",
      "torch.Size([1, 64, 40, 32])\n",
      "torch.Size([1, 160, 20, 16])\n",
      "torch.Size([1, 256, 10, 8])\n"
     ]
    }
   ],
   "source": [
    "from timm import create_model\n",
    "import timm\n",
    "model = create_model('tf_efficientnetv2_s', pretrained=True,features_only=True)\n",
    "img = torch.randn((1,3,320,256))\n",
    "data_config = timm.data.resolve_model_data_config(model)\n",
    "transforms = timm.data.create_transform(**data_config, is_training=False)\n",
    "\n",
    "output = model(img\n",
    "               )  # unsqueeze single image into batch of 1\n",
    "\n",
    "\n",
    "for o in output:\n",
    "    print(o.shape)"
   ]
  },
  {
   "cell_type": "code",
   "execution_count": 2,
   "metadata": {},
   "outputs": [
    {
     "name": "stdout",
     "output_type": "stream",
     "text": [
      "torch.Size([1, 64, 160, 128])\n",
      "torch.Size([1, 64, 80, 64])\n",
      "torch.Size([1, 128, 40, 32])\n",
      "torch.Size([1, 256, 20, 16])\n",
      "torch.Size([1, 512, 10, 8])\n"
     ]
    }
   ],
   "source": [
    "from timm import create_model\n",
    "import timm\n",
    "import torch\n",
    "img = torch.randn((1,3,320,256))\n",
    "model = timm.create_model('resnet18', pretrained=True,features_only=True)\n",
    "output = model(img\n",
    "               )  # unsqueeze single image into batch of 1\n",
    "\n",
    "\n",
    "for o in output:\n",
    "    print(o.shape)"
   ]
  },
  {
   "cell_type": "code",
   "execution_count": null,
   "metadata": {},
   "outputs": [],
   "source": []
  }
 ],
 "metadata": {
  "kernelspec": {
   "display_name": "a2j_trans",
   "language": "python",
   "name": "python3"
  },
  "language_info": {
   "codemirror_mode": {
    "name": "ipython",
    "version": 3
   },
   "file_extension": ".py",
   "mimetype": "text/x-python",
   "name": "python",
   "nbconvert_exporter": "python",
   "pygments_lexer": "ipython3",
   "version": "3.7.16"
  }
 },
 "nbformat": 4,
 "nbformat_minor": 2
}
